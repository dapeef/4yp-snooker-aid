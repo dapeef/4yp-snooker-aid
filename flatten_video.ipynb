{
 "cells": [
  {
   "cell_type": "code",
   "execution_count": 1,
   "metadata": {},
   "outputs": [],
   "source": [
    "from flatten_video import *"
   ]
  },
  {
   "cell_type": "code",
   "execution_count": 2,
   "metadata": {},
   "outputs": [
    {
     "name": "stdout",
     "output_type": "stream",
     "text": [
      "0.1\n"
     ]
    }
   ],
   "source": [
    "# Test different contrast exponents\n",
    "\n",
    "for i in np.linspace(0.1, 0.4, 10):\n",
    "    overlay_video_frames(\"simulation_validation/cue ball.mp4\",\n",
    "                            output_file_name=\"cue ball\",\n",
    "                            contrast_exponent=i,\n",
    "                            frame_interval=1,\n",
    "                            start_time=7.5,\n",
    "                            end_time=14)\n",
    "    print(i)"
   ]
  },
  {
   "cell_type": "code",
   "execution_count": null,
   "metadata": {},
   "outputs": [],
   "source": [
    "_ = overlay_video_frames(\"simulation_validation/cue ball.mp4\",\n",
    "                          output_file_name=\"cue_ball\",\n",
    "                          frame_interval=1,\n",
    "                          start_time=7.5,\n",
    "                          end_time=14)"
   ]
  },
  {
   "cell_type": "code",
   "execution_count": null,
   "metadata": {},
   "outputs": [],
   "source": [
    "_ = overlay_video_frames(\"simulation_validation/top.mp4\",\n",
    "                          output_file_name=\"top\",\n",
    "                          frame_interval=1,\n",
    "                          start_time=7.5,\n",
    "                          end_time=9)"
   ]
  },
  {
   "cell_type": "code",
   "execution_count": null,
   "metadata": {},
   "outputs": [],
   "source": [
    "_ = overlay_video_frames(\"simulation_validation/screw.mp4\",\n",
    "                          output_file_name=\"screw\",\n",
    "                          frame_interval=1,\n",
    "                          start_time=8.5,\n",
    "                          end_time=14)"
   ]
  },
  {
   "cell_type": "code",
   "execution_count": null,
   "metadata": {},
   "outputs": [],
   "source": [
    "_ = overlay_video_frames(\"simulation_validation/top right.mp4\",\n",
    "                          output_file_name=\"top_right\",\n",
    "                          frame_interval=1,\n",
    "                          start_time=7,\n",
    "                          end_time=12)"
   ]
  },
  {
   "cell_type": "code",
   "execution_count": null,
   "metadata": {},
   "outputs": [],
   "source": [
    "_ = overlay_video_frames(\"simulation_validation/top left.mp4\",\n",
    "                          output_file_name=\"top_left\",\n",
    "                          frame_interval=1,\n",
    "                          start_time=7,\n",
    "                          end_time=10)"
   ]
  },
  {
   "cell_type": "code",
   "execution_count": null,
   "metadata": {},
   "outputs": [],
   "source": [
    "_ = overlay_video_frames(\"simulation_validation/masse.mp4\",\n",
    "                          output_file_name=\"masse\",\n",
    "                          frame_interval=1,\n",
    "                          start_time=7,\n",
    "                          end_time=9)"
   ]
  }
 ],
 "metadata": {
  "kernelspec": {
   "display_name": ".venv",
   "language": "python",
   "name": "python3"
  },
  "language_info": {
   "codemirror_mode": {
    "name": "ipython",
    "version": 3
   },
   "file_extension": ".py",
   "mimetype": "text/x-python",
   "name": "python",
   "nbconvert_exporter": "python",
   "pygments_lexer": "ipython3",
   "version": "3.11.9"
  }
 },
 "nbformat": 4,
 "nbformat_minor": 2
}
